{
  "nbformat": 4,
  "nbformat_minor": 0,
  "metadata": {
    "colab": {
      "provenance": []
    },
    "kernelspec": {
      "name": "python3",
      "display_name": "Python 3"
    },
    "language_info": {
      "name": "python"
    }
  },
  "cells": [
    {
      "cell_type": "code",
      "execution_count": null,
      "metadata": {
        "colab": {
          "base_uri": "https://localhost:8080/"
        },
        "id": "cBxK5JAIQ94n",
        "outputId": "4083618f-b448-46e1-c6c3-4fca4f903a22"
      },
      "outputs": [
        {
          "output_type": "stream",
          "name": "stdout",
          "text": [
            "Mounted at /content/drive\n"
          ]
        }
      ],
      "source": [
        "from google.colab import drive\n",
        "drive.mount('/content/drive')\n"
      ]
    },
    {
      "cell_type": "code",
      "source": [
        "import tensorflow as tf\n",
        "from tensorflow.keras import layers, models\n",
        "from tensorflow.keras.preprocessing.image import ImageDataGenerator"
      ],
      "metadata": {
        "id": "BHF5Ha6ERPxx"
      },
      "execution_count": null,
      "outputs": []
    },
    {
      "cell_type": "code",
      "source": [
        "# Veri dönüşümleri\n",
        "datagen = ImageDataGenerator(\n",
        "    rescale=1.0/255.0,  # Görüntü piksel değerlerini [0,1] aralığına ölçekle\n",
        "    validation_split=0.2  # Eğitim veri kümesinin %20'sini doğrulama (validation) veri kümesi olarak ayır\n",
        ")\n",
        "\n",
        "# Veri kümesini yükleyin ve hazırlayın\n",
        "train_dataset = datagen.flow_from_directory(\n",
        "    '/content/drive/MyDrive/dataset/chest_xray/train',\n",
        "    target_size=(224, 224),  # Görüntü boyutunu belirleyin (PyTorch'daki gibi)\n",
        "    batch_size=16,  # Batch boyutunu belirleyin (PyTorch'daki gibi)\n",
        "    class_mode='binary',  # Sınıf modunu belirleyin ('binary' veya 'categorical' gibi)\n",
        "    subset='training'  # Eğitim veri kümesi olarak ayarlayın\n",
        ")\n",
        "\n",
        "test_dataset = datagen.flow_from_directory(\n",
        "    '/content/drive/MyDrive/dataset/chest_xray/test',\n",
        "    target_size=(224, 224),\n",
        "    batch_size=16,\n",
        "    class_mode='binary',\n",
        "    subset='validation'  # Doğrulama (validation) veri kümesi olarak ayarlayın\n",
        ")\n",
        "\n",
        "# Modeli oluşturun, derleyin ve eğitin (kod örneği PyTorch'taki gibi)\n",
        "# ..."
      ],
      "metadata": {
        "colab": {
          "base_uri": "https://localhost:8080/"
        },
        "id": "T99zAdgaRQUB",
        "outputId": "6b4871d1-8c39-4086-f1f2-ce217611ebbb"
      },
      "execution_count": null,
      "outputs": [
        {
          "output_type": "stream",
          "name": "stdout",
          "text": [
            "Found 4173 images belonging to 2 classes.\n",
            "Found 124 images belonging to 2 classes.\n"
          ]
        }
      ]
    },
    {
      "cell_type": "code",
      "source": [
        "model = models.Sequential([\n",
        "    layers.Conv2D(16, (3, 3), activation='relu', input_shape=(224, 224, 3)),\n",
        "    layers.MaxPooling2D((2, 2)),\n",
        "    layers.Conv2D(32, (3, 3), activation='relu'),\n",
        "    layers.MaxPooling2D((2, 2)),\n",
        "    layers.Conv2D(64, (3, 3), activation='relu'),\n",
        "    layers.MaxPooling2D((2, 2)),\n",
        "    layers.Flatten(),\n",
        "    layers.Dense(128, activation='relu'),\n",
        "    layers.Dense(2)  # Sınıf sayısına göre çıkış katmanının boyutunu ayarlayın\n",
        "])\n",
        "\n",
        "# Modeli derleyin\n",
        "model.compile(optimizer='adam',\n",
        "              loss=tf.keras.losses.SparseCategoricalCrossentropy(from_logits=True),\n",
        "              metrics=['accuracy'])"
      ],
      "metadata": {
        "id": "KGQewA7VRgSm"
      },
      "execution_count": null,
      "outputs": []
    },
    {
      "cell_type": "code",
      "source": [
        "model = models.Sequential([\n",
        "    layers.Conv2D(16, (3, 3), activation='relu', input_shape=(224, 224, 3)),\n",
        "    layers.MaxPooling2D((2, 2)),\n",
        "    layers.Conv2D(32, (3, 3), activation='relu'),\n",
        "    layers.MaxPooling2D((2, 2)),\n",
        "    layers.Conv2D(64, (3, 3), activation='relu'),\n",
        "    layers.MaxPooling2D((2, 2)),\n",
        "    layers.Flatten(),\n",
        "    layers.Dense(128, activation='relu'),\n",
        "    layers.Dense(2)  # Sınıf sayısına göre çıkış katmanının boyutunu ayarlayın\n",
        "])\n",
        "\n",
        "# Modeli derleyin\n",
        "model.compile(optimizer='adam',\n",
        "              loss=tf.keras.losses.SparseCategoricalCrossentropy(from_logits=True),\n",
        "              metrics=['accuracy'])"
      ],
      "metadata": {
        "id": "R7twjtysScHR"
      },
      "execution_count": null,
      "outputs": []
    },
    {
      "cell_type": "code",
      "source": [
        "# Modeli eğitin\n",
        "num_epochs = 15\n",
        "model.fit(train_dataset, epochs=num_epochs)\n",
        "\n",
        "# Model performansını değerlendirin\n",
        "test_loss, test_accuracy = model.evaluate(test_dataset)\n",
        "print(\"Test Accuracy:\", test_accuracy)"
      ],
      "metadata": {
        "colab": {
          "base_uri": "https://localhost:8080/"
        },
        "id": "3tv3Wn8aSoEb",
        "outputId": "ac9bbed9-6d4e-43ba-8584-bfe9e4f62ced"
      },
      "execution_count": null,
      "outputs": [
        {
          "output_type": "stream",
          "name": "stdout",
          "text": [
            "Epoch 1/15\n",
            "261/261 [==============================] - 635s 2s/step - loss: 0.2494 - accuracy: 0.9101\n",
            "Epoch 2/15\n",
            "261/261 [==============================] - 287s 1s/step - loss: 0.0907 - accuracy: 0.9660\n",
            "Epoch 3/15\n",
            "261/261 [==============================] - 278s 1s/step - loss: 0.0686 - accuracy: 0.9760\n",
            "Epoch 4/15\n",
            "261/261 [==============================] - 288s 1s/step - loss: 0.0558 - accuracy: 0.9799\n",
            "Epoch 5/15\n",
            "261/261 [==============================] - 281s 1s/step - loss: 0.0327 - accuracy: 0.9885\n",
            "Epoch 6/15\n",
            "261/261 [==============================] - 290s 1s/step - loss: 0.0214 - accuracy: 0.9914\n",
            "Epoch 7/15\n",
            "261/261 [==============================] - 281s 1s/step - loss: 0.0198 - accuracy: 0.9919\n",
            "Epoch 8/15\n",
            "261/261 [==============================] - 287s 1s/step - loss: 0.0184 - accuracy: 0.9940\n",
            "Epoch 9/15\n",
            "261/261 [==============================] - 279s 1s/step - loss: 0.0058 - accuracy: 0.9981\n",
            "Epoch 10/15\n",
            "261/261 [==============================] - 280s 1s/step - loss: 9.8097e-04 - accuracy: 1.0000\n",
            "Epoch 11/15\n",
            "261/261 [==============================] - 280s 1s/step - loss: 0.0113 - accuracy: 0.9957\n",
            "Epoch 12/15\n",
            "261/261 [==============================] - 283s 1s/step - loss: 0.0485 - accuracy: 0.9818\n",
            "Epoch 13/15\n",
            "261/261 [==============================] - 286s 1s/step - loss: 0.0313 - accuracy: 0.9878\n",
            "Epoch 14/15\n",
            "261/261 [==============================] - 285s 1s/step - loss: 0.0078 - accuracy: 0.9976\n",
            "Epoch 15/15\n",
            "261/261 [==============================] - 282s 1s/step - loss: 0.0036 - accuracy: 0.9993\n",
            "8/8 [==============================] - 51s 7s/step - loss: 2.7804 - accuracy: 0.7500\n",
            "Test Accuracy: 0.75\n"
          ]
        }
      ]
    }
  ]
}